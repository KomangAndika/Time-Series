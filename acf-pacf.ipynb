{
 "cells": [
  {
   "cell_type": "code",
   "execution_count": 1,
   "id": "ffcc939a",
   "metadata": {
    "_cell_guid": "b1076dfc-b9ad-4769-8c92-a6c4dae69d19",
    "_uuid": "8f2839f25d086af736a60e9eeb907d3b93b6e0e5",
    "execution": {
     "iopub.execute_input": "2024-02-15T07:22:30.555557Z",
     "iopub.status.busy": "2024-02-15T07:22:30.555028Z",
     "iopub.status.idle": "2024-02-15T07:22:31.358577Z",
     "shell.execute_reply": "2024-02-15T07:22:31.357529Z"
    },
    "papermill": {
     "duration": 0.812632,
     "end_time": "2024-02-15T07:22:31.361041",
     "exception": false,
     "start_time": "2024-02-15T07:22:30.548409",
     "status": "completed"
    },
    "tags": []
   },
   "outputs": [
    {
     "name": "stdout",
     "output_type": "stream",
     "text": [
      "/kaggle/input/tesla-stock-data-updated-till-28jun2021/TSLA.csv\n"
     ]
    }
   ],
   "source": [
    "# This Python 3 environment comes with many helpful analytics libraries installed\n",
    "# It is defined by the kaggle/python Docker image: https://github.com/kaggle/docker-python\n",
    "# For example, here's several helpful packages to load\n",
    "\n",
    "import numpy as np # linear algebra\n",
    "import pandas as pd # data processing, CSV file I/O (e.g. pd.read_csv)\n",
    "\n",
    "# Input data files are available in the read-only \"../input/\" directory\n",
    "# For example, running this (by clicking run or pressing Shift+Enter) will list all files under the input directory\n",
    "\n",
    "import os\n",
    "for dirname, _, filenames in os.walk('/kaggle/input'):\n",
    "    for filename in filenames:\n",
    "        print(os.path.join(dirname, filename))\n",
    "\n",
    "# You can write up to 20GB to the current directory (/kaggle/working/) that gets preserved as output when you create a version using \"Save & Run All\" \n",
    "# You can also write temporary files to /kaggle/temp/, but they won't be saved outside of the current session"
   ]
  },
  {
   "cell_type": "code",
   "execution_count": 2,
   "id": "9fa384c2",
   "metadata": {
    "execution": {
     "iopub.execute_input": "2024-02-15T07:22:31.372018Z",
     "iopub.status.busy": "2024-02-15T07:22:31.371632Z",
     "iopub.status.idle": "2024-02-15T07:22:32.780886Z",
     "shell.execute_reply": "2024-02-15T07:22:32.779891Z"
    },
    "papermill": {
     "duration": 1.417326,
     "end_time": "2024-02-15T07:22:32.783244",
     "exception": false,
     "start_time": "2024-02-15T07:22:31.365918",
     "status": "completed"
    },
    "tags": []
   },
   "outputs": [],
   "source": [
    "import matplotlib.pyplot as plt\n",
    "from pandas.plotting import register_matplotlib_converters\n",
    "from statsmodels.graphics.tsaplots import plot_acf, plot_pacf\n",
    "register_matplotlib_converters()"
   ]
  },
  {
   "cell_type": "markdown",
   "id": "cd4f707f",
   "metadata": {
    "papermill": {
     "duration": 0.004235,
     "end_time": "2024-02-15T07:22:32.792158",
     "exception": false,
     "start_time": "2024-02-15T07:22:32.787923",
     "status": "completed"
    },
    "tags": []
   },
   "source": [
    "## ACF"
   ]
  },
  {
   "cell_type": "markdown",
   "id": "1b66fac4",
   "metadata": {
    "papermill": {
     "duration": 0.00418,
     "end_time": "2024-02-15T07:22:32.800851",
     "exception": false,
     "start_time": "2024-02-15T07:22:32.796671",
     "status": "completed"
    },
    "tags": []
   },
   "source": [
    "ACF or Autocorrelation Function is show the correlation between time series with its own lagged values. For instance if we are using lag = 4 we calculate the correlation between Ht with Ht-4, the correlation estimated at every lag and plotted wit show the correlation of each instance with its own lagged value. You can use both Pearson or Spearman correlation to estimate the correlation."
   ]
  },
  {
   "cell_type": "code",
   "execution_count": 3,
   "id": "6d911447",
   "metadata": {
    "execution": {
     "iopub.execute_input": "2024-02-15T07:22:32.811632Z",
     "iopub.status.busy": "2024-02-15T07:22:32.811190Z",
     "iopub.status.idle": "2024-02-15T07:22:32.833278Z",
     "shell.execute_reply": "2024-02-15T07:22:32.832106Z"
    },
    "papermill": {
     "duration": 0.03008,
     "end_time": "2024-02-15T07:22:32.835508",
     "exception": false,
     "start_time": "2024-02-15T07:22:32.805428",
     "status": "completed"
    },
    "tags": []
   },
   "outputs": [],
   "source": [
    "df = pd.read_csv('/kaggle/input/tesla-stock-data-updated-till-28jun2021/TSLA.csv')"
   ]
  },
  {
   "cell_type": "code",
   "execution_count": 4,
   "id": "67cb1339",
   "metadata": {
    "execution": {
     "iopub.execute_input": "2024-02-15T07:22:32.846317Z",
     "iopub.status.busy": "2024-02-15T07:22:32.846022Z",
     "iopub.status.idle": "2024-02-15T07:22:32.851601Z",
     "shell.execute_reply": "2024-02-15T07:22:32.850666Z"
    },
    "papermill": {
     "duration": 0.012816,
     "end_time": "2024-02-15T07:22:32.853546",
     "exception": false,
     "start_time": "2024-02-15T07:22:32.840730",
     "status": "completed"
    },
    "tags": []
   },
   "outputs": [
    {
     "data": {
      "text/plain": [
       "(2956, 7)"
      ]
     },
     "execution_count": 4,
     "metadata": {},
     "output_type": "execute_result"
    }
   ],
   "source": [
    "df.shape"
   ]
  },
  {
   "cell_type": "code",
   "execution_count": 5,
   "id": "7edc9111",
   "metadata": {
    "execution": {
     "iopub.execute_input": "2024-02-15T07:22:32.864525Z",
     "iopub.status.busy": "2024-02-15T07:22:32.863643Z",
     "iopub.status.idle": "2024-02-15T07:22:32.880541Z",
     "shell.execute_reply": "2024-02-15T07:22:32.879501Z"
    },
    "papermill": {
     "duration": 0.024055,
     "end_time": "2024-02-15T07:22:32.882194",
     "exception": false,
     "start_time": "2024-02-15T07:22:32.858139",
     "status": "completed"
    },
    "tags": []
   },
   "outputs": [
    {
     "data": {
      "text/html": [
       "<div>\n",
       "<style scoped>\n",
       "    .dataframe tbody tr th:only-of-type {\n",
       "        vertical-align: middle;\n",
       "    }\n",
       "\n",
       "    .dataframe tbody tr th {\n",
       "        vertical-align: top;\n",
       "    }\n",
       "\n",
       "    .dataframe thead th {\n",
       "        text-align: right;\n",
       "    }\n",
       "</style>\n",
       "<table border=\"1\" class=\"dataframe\">\n",
       "  <thead>\n",
       "    <tr style=\"text-align: right;\">\n",
       "      <th></th>\n",
       "      <th>Date</th>\n",
       "      <th>Open</th>\n",
       "      <th>High</th>\n",
       "      <th>Low</th>\n",
       "      <th>Close</th>\n",
       "      <th>Adj Close</th>\n",
       "      <th>Volume</th>\n",
       "    </tr>\n",
       "  </thead>\n",
       "  <tbody>\n",
       "    <tr>\n",
       "      <th>0</th>\n",
       "      <td>2010-06-29</td>\n",
       "      <td>3.800</td>\n",
       "      <td>5.000</td>\n",
       "      <td>3.508</td>\n",
       "      <td>4.778</td>\n",
       "      <td>4.778</td>\n",
       "      <td>93831500</td>\n",
       "    </tr>\n",
       "    <tr>\n",
       "      <th>1</th>\n",
       "      <td>2010-06-30</td>\n",
       "      <td>5.158</td>\n",
       "      <td>6.084</td>\n",
       "      <td>4.660</td>\n",
       "      <td>4.766</td>\n",
       "      <td>4.766</td>\n",
       "      <td>85935500</td>\n",
       "    </tr>\n",
       "    <tr>\n",
       "      <th>2</th>\n",
       "      <td>2010-07-01</td>\n",
       "      <td>5.000</td>\n",
       "      <td>5.184</td>\n",
       "      <td>4.054</td>\n",
       "      <td>4.392</td>\n",
       "      <td>4.392</td>\n",
       "      <td>41094000</td>\n",
       "    </tr>\n",
       "    <tr>\n",
       "      <th>3</th>\n",
       "      <td>2010-07-02</td>\n",
       "      <td>4.600</td>\n",
       "      <td>4.620</td>\n",
       "      <td>3.742</td>\n",
       "      <td>3.840</td>\n",
       "      <td>3.840</td>\n",
       "      <td>25699000</td>\n",
       "    </tr>\n",
       "    <tr>\n",
       "      <th>4</th>\n",
       "      <td>2010-07-06</td>\n",
       "      <td>4.000</td>\n",
       "      <td>4.000</td>\n",
       "      <td>3.166</td>\n",
       "      <td>3.222</td>\n",
       "      <td>3.222</td>\n",
       "      <td>34334500</td>\n",
       "    </tr>\n",
       "  </tbody>\n",
       "</table>\n",
       "</div>"
      ],
      "text/plain": [
       "         Date   Open   High    Low  Close  Adj Close    Volume\n",
       "0  2010-06-29  3.800  5.000  3.508  4.778      4.778  93831500\n",
       "1  2010-06-30  5.158  6.084  4.660  4.766      4.766  85935500\n",
       "2  2010-07-01  5.000  5.184  4.054  4.392      4.392  41094000\n",
       "3  2010-07-02  4.600  4.620  3.742  3.840      3.840  25699000\n",
       "4  2010-07-06  4.000  4.000  3.166  3.222      3.222  34334500"
      ]
     },
     "execution_count": 5,
     "metadata": {},
     "output_type": "execute_result"
    }
   ],
   "source": [
    "df.head()"
   ]
  },
  {
   "cell_type": "markdown",
   "id": "b69627b6",
   "metadata": {
    "papermill": {
     "duration": 0.004341,
     "end_time": "2024-02-15T07:22:32.891278",
     "exception": false,
     "start_time": "2024-02-15T07:22:32.886937",
     "status": "completed"
    },
    "tags": []
   },
   "source": [
    "Lets just take the Close column"
   ]
  },
  {
   "cell_type": "code",
   "execution_count": 6,
   "id": "260e4e03",
   "metadata": {
    "execution": {
     "iopub.execute_input": "2024-02-15T07:22:32.902593Z",
     "iopub.status.busy": "2024-02-15T07:22:32.902095Z",
     "iopub.status.idle": "2024-02-15T07:22:32.905704Z",
     "shell.execute_reply": "2024-02-15T07:22:32.904800Z"
    },
    "papermill": {
     "duration": 0.011348,
     "end_time": "2024-02-15T07:22:32.907170",
     "exception": false,
     "start_time": "2024-02-15T07:22:32.895822",
     "status": "completed"
    },
    "tags": []
   },
   "outputs": [],
   "source": [
    "columns_keep = ['Date','Close']"
   ]
  },
  {
   "cell_type": "code",
   "execution_count": 7,
   "id": "a6aba605",
   "metadata": {
    "execution": {
     "iopub.execute_input": "2024-02-15T07:22:32.917435Z",
     "iopub.status.busy": "2024-02-15T07:22:32.916747Z",
     "iopub.status.idle": "2024-02-15T07:22:32.929893Z",
     "shell.execute_reply": "2024-02-15T07:22:32.929124Z"
    },
    "papermill": {
     "duration": 0.020425,
     "end_time": "2024-02-15T07:22:32.932022",
     "exception": false,
     "start_time": "2024-02-15T07:22:32.911597",
     "status": "completed"
    },
    "tags": []
   },
   "outputs": [],
   "source": [
    "df = df[columns_keep]"
   ]
  },
  {
   "cell_type": "code",
   "execution_count": 8,
   "id": "285d052b",
   "metadata": {
    "execution": {
     "iopub.execute_input": "2024-02-15T07:22:32.943151Z",
     "iopub.status.busy": "2024-02-15T07:22:32.942779Z",
     "iopub.status.idle": "2024-02-15T07:22:32.951646Z",
     "shell.execute_reply": "2024-02-15T07:22:32.950701Z"
    },
    "papermill": {
     "duration": 0.016413,
     "end_time": "2024-02-15T07:22:32.953380",
     "exception": false,
     "start_time": "2024-02-15T07:22:32.936967",
     "status": "completed"
    },
    "tags": []
   },
   "outputs": [
    {
     "data": {
      "text/html": [
       "<div>\n",
       "<style scoped>\n",
       "    .dataframe tbody tr th:only-of-type {\n",
       "        vertical-align: middle;\n",
       "    }\n",
       "\n",
       "    .dataframe tbody tr th {\n",
       "        vertical-align: top;\n",
       "    }\n",
       "\n",
       "    .dataframe thead th {\n",
       "        text-align: right;\n",
       "    }\n",
       "</style>\n",
       "<table border=\"1\" class=\"dataframe\">\n",
       "  <thead>\n",
       "    <tr style=\"text-align: right;\">\n",
       "      <th></th>\n",
       "      <th>Date</th>\n",
       "      <th>Close</th>\n",
       "    </tr>\n",
       "  </thead>\n",
       "  <tbody>\n",
       "    <tr>\n",
       "      <th>0</th>\n",
       "      <td>2010-06-29</td>\n",
       "      <td>4.778</td>\n",
       "    </tr>\n",
       "    <tr>\n",
       "      <th>1</th>\n",
       "      <td>2010-06-30</td>\n",
       "      <td>4.766</td>\n",
       "    </tr>\n",
       "    <tr>\n",
       "      <th>2</th>\n",
       "      <td>2010-07-01</td>\n",
       "      <td>4.392</td>\n",
       "    </tr>\n",
       "    <tr>\n",
       "      <th>3</th>\n",
       "      <td>2010-07-02</td>\n",
       "      <td>3.840</td>\n",
       "    </tr>\n",
       "    <tr>\n",
       "      <th>4</th>\n",
       "      <td>2010-07-06</td>\n",
       "      <td>3.222</td>\n",
       "    </tr>\n",
       "  </tbody>\n",
       "</table>\n",
       "</div>"
      ],
      "text/plain": [
       "         Date  Close\n",
       "0  2010-06-29  4.778\n",
       "1  2010-06-30  4.766\n",
       "2  2010-07-01  4.392\n",
       "3  2010-07-02  3.840\n",
       "4  2010-07-06  3.222"
      ]
     },
     "execution_count": 8,
     "metadata": {},
     "output_type": "execute_result"
    }
   ],
   "source": [
    "df.head()"
   ]
  },
  {
   "cell_type": "code",
   "execution_count": 9,
   "id": "50872656",
   "metadata": {
    "execution": {
     "iopub.execute_input": "2024-02-15T07:22:32.964892Z",
     "iopub.status.busy": "2024-02-15T07:22:32.964570Z",
     "iopub.status.idle": "2024-02-15T07:22:32.970323Z",
     "shell.execute_reply": "2024-02-15T07:22:32.969442Z"
    },
    "papermill": {
     "duration": 0.013053,
     "end_time": "2024-02-15T07:22:32.971957",
     "exception": false,
     "start_time": "2024-02-15T07:22:32.958904",
     "status": "completed"
    },
    "tags": []
   },
   "outputs": [
    {
     "data": {
      "text/plain": [
       "(2956, 2)"
      ]
     },
     "execution_count": 9,
     "metadata": {},
     "output_type": "execute_result"
    }
   ],
   "source": [
    "df.shape"
   ]
  },
  {
   "cell_type": "markdown",
   "id": "6a62c767",
   "metadata": {
    "papermill": {
     "duration": 0.004483,
     "end_time": "2024-02-15T07:22:32.981216",
     "exception": false,
     "start_time": "2024-02-15T07:22:32.976733",
     "status": "completed"
    },
    "tags": []
   },
   "source": [
    "Let's just take a few data record for example"
   ]
  },
  {
   "cell_type": "code",
   "execution_count": 10,
   "id": "0d7ba613",
   "metadata": {
    "execution": {
     "iopub.execute_input": "2024-02-15T07:22:32.992675Z",
     "iopub.status.busy": "2024-02-15T07:22:32.991788Z",
     "iopub.status.idle": "2024-02-15T07:22:32.996615Z",
     "shell.execute_reply": "2024-02-15T07:22:32.995570Z"
    },
    "papermill": {
     "duration": 0.012522,
     "end_time": "2024-02-15T07:22:32.998392",
     "exception": false,
     "start_time": "2024-02-15T07:22:32.985870",
     "status": "completed"
    },
    "tags": []
   },
   "outputs": [],
   "source": [
    "df = df.head(15)"
   ]
  },
  {
   "cell_type": "code",
   "execution_count": 11,
   "id": "d1dfd664",
   "metadata": {
    "execution": {
     "iopub.execute_input": "2024-02-15T07:22:33.009859Z",
     "iopub.status.busy": "2024-02-15T07:22:33.009527Z",
     "iopub.status.idle": "2024-02-15T07:22:33.015075Z",
     "shell.execute_reply": "2024-02-15T07:22:33.014278Z"
    },
    "papermill": {
     "duration": 0.013014,
     "end_time": "2024-02-15T07:22:33.016687",
     "exception": false,
     "start_time": "2024-02-15T07:22:33.003673",
     "status": "completed"
    },
    "tags": []
   },
   "outputs": [
    {
     "data": {
      "text/plain": [
       "(15, 2)"
      ]
     },
     "execution_count": 11,
     "metadata": {},
     "output_type": "execute_result"
    }
   ],
   "source": [
    "df.shape"
   ]
  },
  {
   "cell_type": "code",
   "execution_count": 12,
   "id": "f6871c6d",
   "metadata": {
    "execution": {
     "iopub.execute_input": "2024-02-15T07:22:33.027873Z",
     "iopub.status.busy": "2024-02-15T07:22:33.027584Z",
     "iopub.status.idle": "2024-02-15T07:22:33.047686Z",
     "shell.execute_reply": "2024-02-15T07:22:33.046635Z"
    },
    "papermill": {
     "duration": 0.027829,
     "end_time": "2024-02-15T07:22:33.049423",
     "exception": false,
     "start_time": "2024-02-15T07:22:33.021594",
     "status": "completed"
    },
    "tags": []
   },
   "outputs": [
    {
     "name": "stdout",
     "output_type": "stream",
     "text": [
      "<class 'pandas.core.frame.DataFrame'>\n",
      "RangeIndex: 15 entries, 0 to 14\n",
      "Data columns (total 2 columns):\n",
      " #   Column  Non-Null Count  Dtype  \n",
      "---  ------  --------------  -----  \n",
      " 0   Date    15 non-null     object \n",
      " 1   Close   15 non-null     float64\n",
      "dtypes: float64(1), object(1)\n",
      "memory usage: 368.0+ bytes\n"
     ]
    }
   ],
   "source": [
    "df.info()"
   ]
  },
  {
   "cell_type": "code",
   "execution_count": 13,
   "id": "f02e5101",
   "metadata": {
    "execution": {
     "iopub.execute_input": "2024-02-15T07:22:33.060825Z",
     "iopub.status.busy": "2024-02-15T07:22:33.060486Z",
     "iopub.status.idle": "2024-02-15T07:22:33.071043Z",
     "shell.execute_reply": "2024-02-15T07:22:33.070426Z"
    },
    "papermill": {
     "duration": 0.018102,
     "end_time": "2024-02-15T07:22:33.072643",
     "exception": false,
     "start_time": "2024-02-15T07:22:33.054541",
     "status": "completed"
    },
    "tags": []
   },
   "outputs": [],
   "source": [
    "df['Date'] = pd.to_datetime(df['Date'])\n",
    "df.set_index('Date',inplace=True)"
   ]
  },
  {
   "cell_type": "code",
   "execution_count": 14,
   "id": "c55e7556",
   "metadata": {
    "execution": {
     "iopub.execute_input": "2024-02-15T07:22:33.083988Z",
     "iopub.status.busy": "2024-02-15T07:22:33.083456Z",
     "iopub.status.idle": "2024-02-15T07:22:33.091747Z",
     "shell.execute_reply": "2024-02-15T07:22:33.091064Z"
    },
    "papermill": {
     "duration": 0.015676,
     "end_time": "2024-02-15T07:22:33.093339",
     "exception": false,
     "start_time": "2024-02-15T07:22:33.077663",
     "status": "completed"
    },
    "tags": []
   },
   "outputs": [
    {
     "data": {
      "text/html": [
       "<div>\n",
       "<style scoped>\n",
       "    .dataframe tbody tr th:only-of-type {\n",
       "        vertical-align: middle;\n",
       "    }\n",
       "\n",
       "    .dataframe tbody tr th {\n",
       "        vertical-align: top;\n",
       "    }\n",
       "\n",
       "    .dataframe thead th {\n",
       "        text-align: right;\n",
       "    }\n",
       "</style>\n",
       "<table border=\"1\" class=\"dataframe\">\n",
       "  <thead>\n",
       "    <tr style=\"text-align: right;\">\n",
       "      <th></th>\n",
       "      <th>Close</th>\n",
       "    </tr>\n",
       "    <tr>\n",
       "      <th>Date</th>\n",
       "      <th></th>\n",
       "    </tr>\n",
       "  </thead>\n",
       "  <tbody>\n",
       "    <tr>\n",
       "      <th>2010-06-29</th>\n",
       "      <td>4.778</td>\n",
       "    </tr>\n",
       "    <tr>\n",
       "      <th>2010-06-30</th>\n",
       "      <td>4.766</td>\n",
       "    </tr>\n",
       "    <tr>\n",
       "      <th>2010-07-01</th>\n",
       "      <td>4.392</td>\n",
       "    </tr>\n",
       "    <tr>\n",
       "      <th>2010-07-02</th>\n",
       "      <td>3.840</td>\n",
       "    </tr>\n",
       "    <tr>\n",
       "      <th>2010-07-06</th>\n",
       "      <td>3.222</td>\n",
       "    </tr>\n",
       "  </tbody>\n",
       "</table>\n",
       "</div>"
      ],
      "text/plain": [
       "            Close\n",
       "Date             \n",
       "2010-06-29  4.778\n",
       "2010-06-30  4.766\n",
       "2010-07-01  4.392\n",
       "2010-07-02  3.840\n",
       "2010-07-06  3.222"
      ]
     },
     "execution_count": 14,
     "metadata": {},
     "output_type": "execute_result"
    }
   ],
   "source": [
    "df.head()"
   ]
  },
  {
   "cell_type": "code",
   "execution_count": 15,
   "id": "fda2846a",
   "metadata": {
    "execution": {
     "iopub.execute_input": "2024-02-15T07:22:33.104936Z",
     "iopub.status.busy": "2024-02-15T07:22:33.104664Z",
     "iopub.status.idle": "2024-02-15T07:22:33.112308Z",
     "shell.execute_reply": "2024-02-15T07:22:33.111398Z"
    },
    "papermill": {
     "duration": 0.015567,
     "end_time": "2024-02-15T07:22:33.113986",
     "exception": false,
     "start_time": "2024-02-15T07:22:33.098419",
     "status": "completed"
    },
    "tags": []
   },
   "outputs": [
    {
     "data": {
      "text/html": [
       "<div>\n",
       "<style scoped>\n",
       "    .dataframe tbody tr th:only-of-type {\n",
       "        vertical-align: middle;\n",
       "    }\n",
       "\n",
       "    .dataframe tbody tr th {\n",
       "        vertical-align: top;\n",
       "    }\n",
       "\n",
       "    .dataframe thead th {\n",
       "        text-align: right;\n",
       "    }\n",
       "</style>\n",
       "<table border=\"1\" class=\"dataframe\">\n",
       "  <thead>\n",
       "    <tr style=\"text-align: right;\">\n",
       "      <th></th>\n",
       "      <th>Close</th>\n",
       "    </tr>\n",
       "    <tr>\n",
       "      <th>Date</th>\n",
       "      <th></th>\n",
       "    </tr>\n",
       "  </thead>\n",
       "  <tbody>\n",
       "    <tr>\n",
       "      <th>2010-07-14</th>\n",
       "      <td>3.968</td>\n",
       "    </tr>\n",
       "    <tr>\n",
       "      <th>2010-07-15</th>\n",
       "      <td>3.978</td>\n",
       "    </tr>\n",
       "    <tr>\n",
       "      <th>2010-07-16</th>\n",
       "      <td>4.128</td>\n",
       "    </tr>\n",
       "    <tr>\n",
       "      <th>2010-07-19</th>\n",
       "      <td>4.382</td>\n",
       "    </tr>\n",
       "    <tr>\n",
       "      <th>2010-07-20</th>\n",
       "      <td>4.060</td>\n",
       "    </tr>\n",
       "  </tbody>\n",
       "</table>\n",
       "</div>"
      ],
      "text/plain": [
       "            Close\n",
       "Date             \n",
       "2010-07-14  3.968\n",
       "2010-07-15  3.978\n",
       "2010-07-16  4.128\n",
       "2010-07-19  4.382\n",
       "2010-07-20  4.060"
      ]
     },
     "execution_count": 15,
     "metadata": {},
     "output_type": "execute_result"
    }
   ],
   "source": [
    "df.tail()"
   ]
  },
  {
   "cell_type": "code",
   "execution_count": 16,
   "id": "9f8136cf",
   "metadata": {
    "execution": {
     "iopub.execute_input": "2024-02-15T07:22:33.126480Z",
     "iopub.status.busy": "2024-02-15T07:22:33.125488Z",
     "iopub.status.idle": "2024-02-15T07:22:33.486055Z",
     "shell.execute_reply": "2024-02-15T07:22:33.485132Z"
    },
    "papermill": {
     "duration": 0.369,
     "end_time": "2024-02-15T07:22:33.488331",
     "exception": false,
     "start_time": "2024-02-15T07:22:33.119331",
     "status": "completed"
    },
    "tags": []
   },
   "outputs": [
    {
     "data": {
      "image/png": "[encoded data removed]",
      "text/plain": [
       "<Figure size 1000x400 with 1 Axes>"
      ]
     },
     "metadata": {},
     "output_type": "display_data"
    }
   ],
   "source": [
    "plt.figure(figsize=(10,4))\n",
    "plt.plot(df['Close'])\n",
    "plt.title('Tesla Closing Price over Time', fontsize=20)\n",
    "plt.ylabel('Price', fontsize=16)\n",
    "for year in range(2010-6-29,2020-7-20):\n",
    "    plt.axvline(pd.to_datetime(str(year)+'-01-01'), color='k', linestyle='--', alpha=0.2)"
   ]
  },
  {
   "cell_type": "code",
   "execution_count": null,
   "id": "5de75b3d",
   "metadata": {
    "papermill": {
     "duration": 0.005352,
     "end_time": "2024-02-15T07:22:33.499526",
     "exception": false,
     "start_time": "2024-02-15T07:22:33.494174",
     "status": "completed"
    },
    "tags": []
   },
   "outputs": [],
   "source": []
  }
 ],
 "metadata": {
  "kaggle": {
   "accelerator": "none",
   "dataSources": [
    {
     "datasetId": 1436765,
     "sourceId": 3358622,
     "sourceType": "datasetVersion"
    }
   ],
   "dockerImageVersionId": 30646,
   "isGpuEnabled": false,
   "isInternetEnabled": true,
   "language": "python",
   "sourceType": "notebook"
  },
  "kernelspec": {
   "display_name": "Python 3",
   "language": "python",
   "name": "python3"
  },
  "language_info": {
   "codemirror_mode": {
    "name": "ipython",
    "version": 3
   },
   "file_extension": ".py",
   "mimetype": "text/x-python",
   "name": "python",
   "nbconvert_exporter": "python",
   "pygments_lexer": "ipython3",
   "version": "3.10.13"
  },
  "papermill": {
   "default_parameters": {},
   "duration": 5.738284,
   "end_time": "2024-02-15T07:22:34.024585",
   "environment_variables": {},
   "exception": null,
   "input_path": "__notebook__.ipynb",
   "output_path": "__notebook__.ipynb",
   "parameters": {},
   "start_time": "2024-02-15T07:22:28.286301",
   "version": "2.5.0"
  }
 },
 "nbformat": 4,
 "nbformat_minor": 5
}
