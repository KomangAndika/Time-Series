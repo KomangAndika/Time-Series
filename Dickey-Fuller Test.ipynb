{
 "cells": [
  {
   "cell_type": "code",
   "execution_count": 1,
   "id": "13485182",
   "metadata": {
    "execution": {
     "iopub.execute_input": "2024-05-29T09:46:10.663707Z",
     "iopub.status.busy": "2024-05-29T09:46:10.663245Z",
     "iopub.status.idle": "2024-05-29T09:46:11.624988Z",
     "shell.execute_reply": "2024-05-29T09:46:11.623785Z"
    },
    "papermill": {
     "duration": 0.975818,
     "end_time": "2024-05-29T09:46:11.627829",
     "exception": false,
     "start_time": "2024-05-29T09:46:10.652011",
     "status": "completed"
    },
    "tags": []
   },
   "outputs": [
    {
     "name": "stdout",
     "output_type": "stream",
     "text": [
      "/kaggle/input/tesla-stock-data-updated-till-28jun2021/TSLA.csv\n"
     ]
    }
   ],
   "source": [
    "import numpy as np \n",
    "import pandas as pd\n",
    "import os\n",
    "for dirname, _, filenames in os.walk('/kaggle/input'):\n",
    "    for filename in filenames:\n",
    "        print(os.path.join(dirname, filename))"
   ]
  },
  {
   "cell_type": "markdown",
   "id": "6a019a3e",
   "metadata": {
    "papermill": {
     "duration": 0.007288,
     "end_time": "2024-05-29T09:46:11.643510",
     "exception": false,
     "start_time": "2024-05-29T09:46:11.636222",
     "status": "completed"
    },
    "tags": []
   },
   "source": [
    "## Dickey Fuller Test\n",
    "Dicker fuller test use autoregressive model and optimize an information criterion across multiple different lag values. <br>\n",
    "This test is a statistical test to check for stationarity in time series. This is a type of unit root test, through which we find if the time series is having any unit root.\n",
    "<br>\n",
    "### Unit Root\n",
    "is a feature of time series that indicate any stochastic trend in the time series that drives it away from mean value. Presence of unit root makes the time series not stationary.\n",
    "<br>\n",
    "There are three main versions of Dickey-Fuller test with slightly different regression models:\n",
    "1. **Dickey-Fuller Test**,assume no itercept or trend in the data.\n",
    "2. **Dickey-Fuller with intercept**, adds an intercept term(constant value) to the model.\n",
    "3. **Augmented Dickey-Fuller (ADF)**, extension of Dickey-Fuller that includes lagged differences of the dependent variable to account for autocorrelation"
   ]
  },
  {
   "cell_type": "markdown",
   "id": "647af4c2",
   "metadata": {
    "papermill": {
     "duration": 0.007147,
     "end_time": "2024-05-29T09:46:11.658161",
     "exception": false,
     "start_time": "2024-05-29T09:46:11.651014",
     "status": "completed"
    },
    "tags": []
   },
   "source": [
    "<div style=\"font-size: 1.5em;\">\n",
    "Stationarity is a very important step in ARIMA. The first step is to determine the number of differences required to make the series stationary because the model cannot forecast on non-stationary data.\n",
    "</div>\n"
   ]
  },
  {
   "cell_type": "markdown",
   "id": "e964029b",
   "metadata": {
    "papermill": {
     "duration": 0.007167,
     "end_time": "2024-05-29T09:46:11.673011",
     "exception": false,
     "start_time": "2024-05-29T09:46:11.665844",
     "status": "completed"
    },
    "tags": []
   },
   "source": [
    "$$\n",
    "\\LARGE\n",
    "\\Delta y_{t} = \\mu + \\delta y_{t-1} + \\varepsilon_{t}\n",
    "$$\n",
    "\n",
    "\n",
    "<br> <br>\n",
    "where:<br>\n",
    "$\\mu$: Constant<br>\n",
    "$\\delta$: Coefficient +<br>\n",
    "$y_{t-1}$: Value in the time lag of 1 <br>\n",
    "$\\varepsilon$: Error component <br> \n",
    "\n",
    "The formula is like this: <br>\n",
    "\n",
    "$$\n",
    "\\LARGE\n",
    "\\begin{array}{c}\n",
    "t_{\\hat{\\delta}} = \\frac{\\hat{\\delta}}{SE(\\hat{\\delta})}\n",
    "\\end{array}\n",
    "$$\n",
    "<br>\n",
    "\n"
   ]
  },
  {
   "cell_type": "markdown",
   "id": "d02fdf28",
   "metadata": {
    "papermill": {
     "duration": 0.007195,
     "end_time": "2024-05-29T09:46:11.687687",
     "exception": false,
     "start_time": "2024-05-29T09:46:11.680492",
     "status": "completed"
    },
    "tags": []
   },
   "source": [
    "## Augmented Dickey Fuller Test\n",
    "Extension of the normal Dickey-Fullter test for more complex model than AR(1). ADF used for larger sized set of time series models which can be more complicated.\n",
    "<br>\n",
    "This test under the following assumption: <br>\n",
    "1. **Null Hypothesis $(H_{0})$:** There exists a unit root in the time series and it is non-stationary. **Unit root = 1** or **$\\delta=0$**.\n",
    "2. **Alternate Hypothesis $(H_{1})$:** There exist no unit root in the time series and it is stationary. **Unit root < 1** or **$\\delta<0$**."
   ]
  },
  {
   "cell_type": "markdown",
   "id": "36305924",
   "metadata": {
    "papermill": {
     "duration": 0.007131,
     "end_time": "2024-05-29T09:46:11.702313",
     "exception": false,
     "start_time": "2024-05-29T09:46:11.695182",
     "status": "completed"
    },
    "tags": []
   },
   "source": [
    "## Condition to reject H0 and accept H1\n",
    "If the test statistic is less thanthe critical value or if the p-value is less than pre-specified significance level (ex:0.05), then the null hypothesis is rejected and the time series is considered stationary. <br>\n",
    "If the test is greater than the critical value, the null hypothesis can't be rejected thus making the time series non-stationary. <br>\n",
    "Critical value found from the Dicker Fuller table (similar to t-table used for t-test)"
   ]
  },
  {
   "cell_type": "markdown",
   "id": "4366e74b",
   "metadata": {
    "papermill": {
     "duration": 0.007085,
     "end_time": "2024-05-29T09:46:11.717469",
     "exception": false,
     "start_time": "2024-05-29T09:46:11.710384",
     "status": "completed"
    },
    "tags": []
   },
   "source": [
    "## Interpreting ADF test Results\n",
    "- **Hypothesis**: either null hypothesis or alternate hypothesis.\n",
    "- ADF give p-value and critical values at different significance levels (like 1% or 5%)\n",
    "- Interpreting p value: A low p-value(less than the chosen significance level) means rejecting the null hypothesis thus the data is likely stationary.\n",
    "- Interpreting test statistics: The test is negative, the more negative the stronger evidence against the null nypothesis (stronger evidence for stationarity)."
   ]
  },
  {
   "cell_type": "markdown",
   "id": "f1185836",
   "metadata": {
    "papermill": {
     "duration": 0.007255,
     "end_time": "2024-05-29T09:46:11.732195",
     "exception": false,
     "start_time": "2024-05-29T09:46:11.724940",
     "status": "completed"
    },
    "tags": []
   },
   "source": [
    "## ADF Test using Python"
   ]
  },
  {
   "cell_type": "code",
   "execution_count": 2,
   "id": "5c9779a6",
   "metadata": {
    "execution": {
     "iopub.execute_input": "2024-05-29T09:46:11.749684Z",
     "iopub.status.busy": "2024-05-29T09:46:11.748618Z",
     "iopub.status.idle": "2024-05-29T09:46:14.744705Z",
     "shell.execute_reply": "2024-05-29T09:46:14.743473Z"
    },
    "papermill": {
     "duration": 3.007886,
     "end_time": "2024-05-29T09:46:14.747587",
     "exception": false,
     "start_time": "2024-05-29T09:46:11.739701",
     "status": "completed"
    },
    "tags": []
   },
   "outputs": [],
   "source": [
    "import statsmodels.api as sm\n",
    "import matplotlib.pyplot as plt\n",
    "%matplotlib inline\n",
    "df = pd.read_csv('/kaggle/input/tesla-stock-data-updated-till-28jun2021/TSLA.csv')"
   ]
  },
  {
   "cell_type": "code",
   "execution_count": 3,
   "id": "08367ad0",
   "metadata": {
    "execution": {
     "iopub.execute_input": "2024-05-29T09:46:14.766525Z",
     "iopub.status.busy": "2024-05-29T09:46:14.765117Z",
     "iopub.status.idle": "2024-05-29T09:46:14.791453Z",
     "shell.execute_reply": "2024-05-29T09:46:14.790370Z"
    },
    "papermill": {
     "duration": 0.037724,
     "end_time": "2024-05-29T09:46:14.794081",
     "exception": false,
     "start_time": "2024-05-29T09:46:14.756357",
     "status": "completed"
    },
    "tags": []
   },
   "outputs": [
    {
     "data": {
      "text/html": [
       "<div>\n",
       "<style scoped>\n",
       "    .dataframe tbody tr th:only-of-type {\n",
       "        vertical-align: middle;\n",
       "    }\n",
       "\n",
       "    .dataframe tbody tr th {\n",
       "        vertical-align: top;\n",
       "    }\n",
       "\n",
       "    .dataframe thead th {\n",
       "        text-align: right;\n",
       "    }\n",
       "</style>\n",
       "<table border=\"1\" class=\"dataframe\">\n",
       "  <thead>\n",
       "    <tr style=\"text-align: right;\">\n",
       "      <th></th>\n",
       "      <th>Date</th>\n",
       "      <th>Open</th>\n",
       "      <th>High</th>\n",
       "      <th>Low</th>\n",
       "      <th>Close</th>\n",
       "      <th>Adj Close</th>\n",
       "      <th>Volume</th>\n",
       "    </tr>\n",
       "  </thead>\n",
       "  <tbody>\n",
       "    <tr>\n",
       "      <th>0</th>\n",
       "      <td>2010-06-29</td>\n",
       "      <td>3.800</td>\n",
       "      <td>5.000</td>\n",
       "      <td>3.508</td>\n",
       "      <td>4.778</td>\n",
       "      <td>4.778</td>\n",
       "      <td>93831500</td>\n",
       "    </tr>\n",
       "    <tr>\n",
       "      <th>1</th>\n",
       "      <td>2010-06-30</td>\n",
       "      <td>5.158</td>\n",
       "      <td>6.084</td>\n",
       "      <td>4.660</td>\n",
       "      <td>4.766</td>\n",
       "      <td>4.766</td>\n",
       "      <td>85935500</td>\n",
       "    </tr>\n",
       "    <tr>\n",
       "      <th>2</th>\n",
       "      <td>2010-07-01</td>\n",
       "      <td>5.000</td>\n",
       "      <td>5.184</td>\n",
       "      <td>4.054</td>\n",
       "      <td>4.392</td>\n",
       "      <td>4.392</td>\n",
       "      <td>41094000</td>\n",
       "    </tr>\n",
       "    <tr>\n",
       "      <th>3</th>\n",
       "      <td>2010-07-02</td>\n",
       "      <td>4.600</td>\n",
       "      <td>4.620</td>\n",
       "      <td>3.742</td>\n",
       "      <td>3.840</td>\n",
       "      <td>3.840</td>\n",
       "      <td>25699000</td>\n",
       "    </tr>\n",
       "    <tr>\n",
       "      <th>4</th>\n",
       "      <td>2010-07-06</td>\n",
       "      <td>4.000</td>\n",
       "      <td>4.000</td>\n",
       "      <td>3.166</td>\n",
       "      <td>3.222</td>\n",
       "      <td>3.222</td>\n",
       "      <td>34334500</td>\n",
       "    </tr>\n",
       "  </tbody>\n",
       "</table>\n",
       "</div>"
      ],
      "text/plain": [
       "         Date   Open   High    Low  Close  Adj Close    Volume\n",
       "0  2010-06-29  3.800  5.000  3.508  4.778      4.778  93831500\n",
       "1  2010-06-30  5.158  6.084  4.660  4.766      4.766  85935500\n",
       "2  2010-07-01  5.000  5.184  4.054  4.392      4.392  41094000\n",
       "3  2010-07-02  4.600  4.620  3.742  3.840      3.840  25699000\n",
       "4  2010-07-06  4.000  4.000  3.166  3.222      3.222  34334500"
      ]
     },
     "execution_count": 3,
     "metadata": {},
     "output_type": "execute_result"
    }
   ],
   "source": [
    "df.head()"
   ]
  },
  {
   "cell_type": "code",
   "execution_count": 4,
   "id": "aa0d2666",
   "metadata": {
    "execution": {
     "iopub.execute_input": "2024-05-29T09:46:14.812193Z",
     "iopub.status.busy": "2024-05-29T09:46:14.811762Z",
     "iopub.status.idle": "2024-05-29T09:46:14.818381Z",
     "shell.execute_reply": "2024-05-29T09:46:14.817347Z"
    },
    "papermill": {
     "duration": 0.018238,
     "end_time": "2024-05-29T09:46:14.820729",
     "exception": false,
     "start_time": "2024-05-29T09:46:14.802491",
     "status": "completed"
    },
    "tags": []
   },
   "outputs": [
    {
     "data": {
      "text/plain": [
       "(2956, 7)"
      ]
     },
     "execution_count": 4,
     "metadata": {},
     "output_type": "execute_result"
    }
   ],
   "source": [
    "df.shape"
   ]
  },
  {
   "cell_type": "code",
   "execution_count": 5,
   "id": "f2f7429b",
   "metadata": {
    "execution": {
     "iopub.execute_input": "2024-05-29T09:46:14.838482Z",
     "iopub.status.busy": "2024-05-29T09:46:14.838094Z",
     "iopub.status.idle": "2024-05-29T09:46:14.850367Z",
     "shell.execute_reply": "2024-05-29T09:46:14.849254Z"
    },
    "papermill": {
     "duration": 0.024018,
     "end_time": "2024-05-29T09:46:14.852715",
     "exception": false,
     "start_time": "2024-05-29T09:46:14.828697",
     "status": "completed"
    },
    "tags": []
   },
   "outputs": [],
   "source": [
    "# For this test we'll only be using the Date and Close Columns for simplicity\n",
    "df = df[['Date', 'Close']]"
   ]
  },
  {
   "cell_type": "code",
   "execution_count": 6,
   "id": "a98a23cc",
   "metadata": {
    "execution": {
     "iopub.execute_input": "2024-05-29T09:46:14.870627Z",
     "iopub.status.busy": "2024-05-29T09:46:14.870246Z",
     "iopub.status.idle": "2024-05-29T09:46:14.880949Z",
     "shell.execute_reply": "2024-05-29T09:46:14.879928Z"
    },
    "papermill": {
     "duration": 0.022413,
     "end_time": "2024-05-29T09:46:14.883385",
     "exception": false,
     "start_time": "2024-05-29T09:46:14.860972",
     "status": "completed"
    },
    "tags": []
   },
   "outputs": [
    {
     "data": {
      "text/html": [
       "<div>\n",
       "<style scoped>\n",
       "    .dataframe tbody tr th:only-of-type {\n",
       "        vertical-align: middle;\n",
       "    }\n",
       "\n",
       "    .dataframe tbody tr th {\n",
       "        vertical-align: top;\n",
       "    }\n",
       "\n",
       "    .dataframe thead th {\n",
       "        text-align: right;\n",
       "    }\n",
       "</style>\n",
       "<table border=\"1\" class=\"dataframe\">\n",
       "  <thead>\n",
       "    <tr style=\"text-align: right;\">\n",
       "      <th></th>\n",
       "      <th>Date</th>\n",
       "      <th>Close</th>\n",
       "    </tr>\n",
       "  </thead>\n",
       "  <tbody>\n",
       "    <tr>\n",
       "      <th>0</th>\n",
       "      <td>2010-06-29</td>\n",
       "      <td>4.778</td>\n",
       "    </tr>\n",
       "    <tr>\n",
       "      <th>1</th>\n",
       "      <td>2010-06-30</td>\n",
       "      <td>4.766</td>\n",
       "    </tr>\n",
       "    <tr>\n",
       "      <th>2</th>\n",
       "      <td>2010-07-01</td>\n",
       "      <td>4.392</td>\n",
       "    </tr>\n",
       "    <tr>\n",
       "      <th>3</th>\n",
       "      <td>2010-07-02</td>\n",
       "      <td>3.840</td>\n",
       "    </tr>\n",
       "    <tr>\n",
       "      <th>4</th>\n",
       "      <td>2010-07-06</td>\n",
       "      <td>3.222</td>\n",
       "    </tr>\n",
       "  </tbody>\n",
       "</table>\n",
       "</div>"
      ],
      "text/plain": [
       "         Date  Close\n",
       "0  2010-06-29  4.778\n",
       "1  2010-06-30  4.766\n",
       "2  2010-07-01  4.392\n",
       "3  2010-07-02  3.840\n",
       "4  2010-07-06  3.222"
      ]
     },
     "execution_count": 6,
     "metadata": {},
     "output_type": "execute_result"
    }
   ],
   "source": [
    "df.head()"
   ]
  },
  {
   "cell_type": "code",
   "execution_count": 7,
   "id": "85ece986",
   "metadata": {
    "execution": {
     "iopub.execute_input": "2024-05-29T09:46:14.902157Z",
     "iopub.status.busy": "2024-05-29T09:46:14.901401Z",
     "iopub.status.idle": "2024-05-29T09:46:14.922133Z",
     "shell.execute_reply": "2024-05-29T09:46:14.920996Z"
    },
    "papermill": {
     "duration": 0.032963,
     "end_time": "2024-05-29T09:46:14.924681",
     "exception": false,
     "start_time": "2024-05-29T09:46:14.891718",
     "status": "completed"
    },
    "tags": []
   },
   "outputs": [
    {
     "name": "stdout",
     "output_type": "stream",
     "text": [
      "<class 'pandas.core.frame.DataFrame'>\n",
      "RangeIndex: 2956 entries, 0 to 2955\n",
      "Data columns (total 2 columns):\n",
      " #   Column  Non-Null Count  Dtype  \n",
      "---  ------  --------------  -----  \n",
      " 0   Date    2956 non-null   object \n",
      " 1   Close   2956 non-null   float64\n",
      "dtypes: float64(1), object(1)\n",
      "memory usage: 46.3+ KB\n"
     ]
    }
   ],
   "source": [
    "df.info()"
   ]
  },
  {
   "cell_type": "code",
   "execution_count": 8,
   "id": "c4949859",
   "metadata": {
    "execution": {
     "iopub.execute_input": "2024-05-29T09:46:14.943358Z",
     "iopub.status.busy": "2024-05-29T09:46:14.942921Z",
     "iopub.status.idle": "2024-05-29T09:46:14.948193Z",
     "shell.execute_reply": "2024-05-29T09:46:14.947105Z"
    },
    "papermill": {
     "duration": 0.017271,
     "end_time": "2024-05-29T09:46:14.950424",
     "exception": false,
     "start_time": "2024-05-29T09:46:14.933153",
     "status": "completed"
    },
    "tags": []
   },
   "outputs": [],
   "source": [
    "# Already in right format, what do i need to do is only turn the date into index\n",
    "df.index = df['Date']"
   ]
  },
  {
   "cell_type": "code",
   "execution_count": 9,
   "id": "94123421",
   "metadata": {
    "execution": {
     "iopub.execute_input": "2024-05-29T09:46:14.969548Z",
     "iopub.status.busy": "2024-05-29T09:46:14.968727Z",
     "iopub.status.idle": "2024-05-29T09:46:14.974174Z",
     "shell.execute_reply": "2024-05-29T09:46:14.973104Z"
    },
    "papermill": {
     "duration": 0.017657,
     "end_time": "2024-05-29T09:46:14.976550",
     "exception": false,
     "start_time": "2024-05-29T09:46:14.958893",
     "status": "completed"
    },
    "tags": []
   },
   "outputs": [],
   "source": [
    "del df['Date']"
   ]
  },
  {
   "cell_type": "code",
   "execution_count": 10,
   "id": "d2254970",
   "metadata": {
    "execution": {
     "iopub.execute_input": "2024-05-29T09:46:14.995049Z",
     "iopub.status.busy": "2024-05-29T09:46:14.994649Z",
     "iopub.status.idle": "2024-05-29T09:46:15.005848Z",
     "shell.execute_reply": "2024-05-29T09:46:15.004753Z"
    },
    "papermill": {
     "duration": 0.023493,
     "end_time": "2024-05-29T09:46:15.008447",
     "exception": false,
     "start_time": "2024-05-29T09:46:14.984954",
     "status": "completed"
    },
    "tags": []
   },
   "outputs": [
    {
     "data": {
      "text/html": [
       "<div>\n",
       "<style scoped>\n",
       "    .dataframe tbody tr th:only-of-type {\n",
       "        vertical-align: middle;\n",
       "    }\n",
       "\n",
       "    .dataframe tbody tr th {\n",
       "        vertical-align: top;\n",
       "    }\n",
       "\n",
       "    .dataframe thead th {\n",
       "        text-align: right;\n",
       "    }\n",
       "</style>\n",
       "<table border=\"1\" class=\"dataframe\">\n",
       "  <thead>\n",
       "    <tr style=\"text-align: right;\">\n",
       "      <th></th>\n",
       "      <th>Close</th>\n",
       "    </tr>\n",
       "    <tr>\n",
       "      <th>Date</th>\n",
       "      <th></th>\n",
       "    </tr>\n",
       "  </thead>\n",
       "  <tbody>\n",
       "    <tr>\n",
       "      <th>2010-06-29</th>\n",
       "      <td>4.778</td>\n",
       "    </tr>\n",
       "    <tr>\n",
       "      <th>2010-06-30</th>\n",
       "      <td>4.766</td>\n",
       "    </tr>\n",
       "    <tr>\n",
       "      <th>2010-07-01</th>\n",
       "      <td>4.392</td>\n",
       "    </tr>\n",
       "    <tr>\n",
       "      <th>2010-07-02</th>\n",
       "      <td>3.840</td>\n",
       "    </tr>\n",
       "    <tr>\n",
       "      <th>2010-07-06</th>\n",
       "      <td>3.222</td>\n",
       "    </tr>\n",
       "  </tbody>\n",
       "</table>\n",
       "</div>"
      ],
      "text/plain": [
       "            Close\n",
       "Date             \n",
       "2010-06-29  4.778\n",
       "2010-06-30  4.766\n",
       "2010-07-01  4.392\n",
       "2010-07-02  3.840\n",
       "2010-07-06  3.222"
      ]
     },
     "execution_count": 10,
     "metadata": {},
     "output_type": "execute_result"
    }
   ],
   "source": [
    "df.head()"
   ]
  },
  {
   "cell_type": "code",
   "execution_count": 11,
   "id": "c31ab360",
   "metadata": {
    "execution": {
     "iopub.execute_input": "2024-05-29T09:46:15.027924Z",
     "iopub.status.busy": "2024-05-29T09:46:15.026920Z",
     "iopub.status.idle": "2024-05-29T09:46:15.031963Z",
     "shell.execute_reply": "2024-05-29T09:46:15.030993Z"
    },
    "papermill": {
     "duration": 0.017193,
     "end_time": "2024-05-29T09:46:15.034307",
     "exception": false,
     "start_time": "2024-05-29T09:46:15.017114",
     "status": "completed"
    },
    "tags": []
   },
   "outputs": [],
   "source": [
    "#I think i need to trim this data\n",
    "df = df.head(500)"
   ]
  },
  {
   "cell_type": "code",
   "execution_count": 12,
   "id": "eac031db",
   "metadata": {
    "execution": {
     "iopub.execute_input": "2024-05-29T09:46:15.053502Z",
     "iopub.status.busy": "2024-05-29T09:46:15.053089Z",
     "iopub.status.idle": "2024-05-29T09:46:18.598128Z",
     "shell.execute_reply": "2024-05-29T09:46:18.596922Z"
    },
    "papermill": {
     "duration": 3.55741,
     "end_time": "2024-05-29T09:46:18.600516",
     "exception": false,
     "start_time": "2024-05-29T09:46:15.043106",
     "status": "completed"
    },
    "tags": []
   },
   "outputs": [
    {
     "data": {
      "image/png": "[encoded data removed]",
      "text/plain": [
       "<Figure size 1600x500 with 1 Axes>"
      ]
     },
     "metadata": {},
     "output_type": "display_data"
    }
   ],
   "source": [
    "plt.figure(figsize=(16,5))\n",
    "plt.plot(df.index, df['Close'], label = \"Closing Price\")\n",
    "plt.legend(loc='best')\n",
    "plt.title(\"Closing Price of Tesla Stock\")\n",
    "plt.show()"
   ]
  },
  {
   "cell_type": "markdown",
   "id": "3df643ff",
   "metadata": {
    "papermill": {
     "duration": 0.00936,
     "end_time": "2024-05-29T09:46:18.619647",
     "exception": false,
     "start_time": "2024-05-29T09:46:18.610287",
     "status": "completed"
    },
    "tags": []
   },
   "source": [
    "## The test"
   ]
  },
  {
   "cell_type": "code",
   "execution_count": 13,
   "id": "6a453463",
   "metadata": {
    "execution": {
     "iopub.execute_input": "2024-05-29T09:46:18.641115Z",
     "iopub.status.busy": "2024-05-29T09:46:18.640703Z",
     "iopub.status.idle": "2024-05-29T09:46:18.645886Z",
     "shell.execute_reply": "2024-05-29T09:46:18.644738Z"
    },
    "papermill": {
     "duration": 0.019118,
     "end_time": "2024-05-29T09:46:18.648674",
     "exception": false,
     "start_time": "2024-05-29T09:46:18.629556",
     "status": "completed"
    },
    "tags": []
   },
   "outputs": [],
   "source": [
    "from statsmodels.tsa.stattools import adfuller"
   ]
  },
  {
   "cell_type": "code",
   "execution_count": 14,
   "id": "31f019a7",
   "metadata": {
    "execution": {
     "iopub.execute_input": "2024-05-29T09:46:18.669933Z",
     "iopub.status.busy": "2024-05-29T09:46:18.669560Z",
     "iopub.status.idle": "2024-05-29T09:46:18.676544Z",
     "shell.execute_reply": "2024-05-29T09:46:18.675442Z"
    },
    "papermill": {
     "duration": 0.020462,
     "end_time": "2024-05-29T09:46:18.678953",
     "exception": false,
     "start_time": "2024-05-29T09:46:18.658491",
     "status": "completed"
    },
    "tags": []
   },
   "outputs": [],
   "source": [
    "def adf_test(timeseries):\n",
    "    print('Result of Augmented Dickey-fuller Test')\n",
    "    dftest = adfuller(timeseries, autolag='AIC')\n",
    "    dfoutput = pd.Series(dftest[0:4], index=['Test Statistic','p-value','#Lags Used','Number of Observations Used'])\n",
    "    for key,value in dftest[4].items():\n",
    "        dfoutput['Critical Value (%s)'%key] = value\n",
    "    print(dfoutput)"
   ]
  },
  {
   "cell_type": "code",
   "execution_count": 15,
   "id": "a352a195",
   "metadata": {
    "execution": {
     "iopub.execute_input": "2024-05-29T09:46:18.700331Z",
     "iopub.status.busy": "2024-05-29T09:46:18.699916Z",
     "iopub.status.idle": "2024-05-29T09:46:18.744976Z",
     "shell.execute_reply": "2024-05-29T09:46:18.743473Z"
    },
    "papermill": {
     "duration": 0.060674,
     "end_time": "2024-05-29T09:46:18.749395",
     "exception": false,
     "start_time": "2024-05-29T09:46:18.688721",
     "status": "completed"
    },
    "tags": []
   },
   "outputs": [
    {
     "name": "stdout",
     "output_type": "stream",
     "text": [
      "Result of Augmented Dickey-fuller Test\n",
      "Test Statistic                  -2.212328\n",
      "p-value                          0.201802\n",
      "#Lags Used                       0.000000\n",
      "Number of Observations Used    499.000000\n",
      "Critical Value (1%)             -3.443523\n",
      "Critical Value (5%)             -2.867350\n",
      "Critical Value (10%)            -2.569864\n",
      "dtype: float64\n"
     ]
    }
   ],
   "source": [
    "adf_test(df['Close'])"
   ]
  },
  {
   "cell_type": "markdown",
   "id": "058e6726",
   "metadata": {
    "papermill": {
     "duration": 0.019917,
     "end_time": "2024-05-29T09:46:18.789342",
     "exception": false,
     "start_time": "2024-05-29T09:46:18.769425",
     "status": "completed"
    },
    "tags": []
   },
   "source": [
    "## Explanation\n",
    "Test statistics is not less negative than any of the critical value, thus we can't reject the null hypothesis of a unit root in the data. Meaning The data might be non-stationary <br><br>\n",
    "Let's say we are using significance level 0.05, the p-value is greater than the significance level thus can't reject the the null hypthesis. Meaning the data might not be stationary.\n",
    "<br><br>\n",
    "The lags is 0 because im using autolag 'AIC', the test might consider adding the lagged value of the dependent variable in the regression does not significantly improve the model fit.\n"
   ]
  }
 ],
 "metadata": {
  "kaggle": {
   "accelerator": "none",
   "dataSources": [
    {
     "datasetId": 1436765,
     "sourceId": 3358622,
     "sourceType": "datasetVersion"
    }
   ],
   "dockerImageVersionId": 30698,
   "isGpuEnabled": false,
   "isInternetEnabled": true,
   "language": "python",
   "sourceType": "notebook"
  },
  "kernelspec": {
   "display_name": "Python 3",
   "language": "python",
   "name": "python3"
  },
  "language_info": {
   "codemirror_mode": {
    "name": "ipython",
    "version": 3
   },
   "file_extension": ".py",
   "mimetype": "text/x-python",
   "name": "python",
   "nbconvert_exporter": "python",
   "pygments_lexer": "ipython3",
   "version": "3.10.13"
  },
  "papermill": {
   "default_parameters": {},
   "duration": 11.950931,
   "end_time": "2024-05-29T09:46:19.537700",
   "environment_variables": {},
   "exception": null,
   "input_path": "__notebook__.ipynb",
   "output_path": "__notebook__.ipynb",
   "parameters": {},
   "start_time": "2024-05-29T09:46:07.586769",
   "version": "2.5.0"
  }
 },
 "nbformat": 4,
 "nbformat_minor": 5
}
