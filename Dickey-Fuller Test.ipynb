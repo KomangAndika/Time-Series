{
 "cells": [
  {
   "cell_type": "code",
   "execution_count": 1,
   "id": "8144e181",
   "metadata": {
    "execution": {
     "iopub.execute_input": "2024-05-29T09:06:25.379827Z",
     "iopub.status.busy": "2024-05-29T09:06:25.379369Z",
     "iopub.status.idle": "2024-05-29T09:06:26.309340Z",
     "shell.execute_reply": "2024-05-29T09:06:26.308180Z"
    },
    "papermill": {
     "duration": 0.939955,
     "end_time": "2024-05-29T09:06:26.312081",
     "exception": false,
     "start_time": "2024-05-29T09:06:25.372126",
     "status": "completed"
    },
    "tags": []
   },
   "outputs": [
    {
     "name": "stdout",
     "output_type": "stream",
     "text": [
      "/kaggle/input/tesla-stock-data-updated-till-28jun2021/TSLA.csv\n"
     ]
    }
   ],
   "source": [
    "import numpy as np \n",
    "import pandas as pd\n",
    "import os\n",
    "for dirname, _, filenames in os.walk('/kaggle/input'):\n",
    "    for filename in filenames:\n",
    "        print(os.path.join(dirname, filename))"
   ]
  },
  {
   "cell_type": "markdown",
   "id": "be4beb86",
   "metadata": {
    "papermill": {
     "duration": 0.003871,
     "end_time": "2024-05-29T09:06:26.320437",
     "exception": false,
     "start_time": "2024-05-29T09:06:26.316566",
     "status": "completed"
    },
    "tags": []
   },
   "source": [
    "## Dickey Fuller Test\n",
    "Dicker fuller test use autoregressive model and optimize an information criterion across multiple different lag values. <br>\n",
    "This test is a statistical test to check for stationarity in time series. This is a type of unit root test, through which we find if the time series is having any unit root.\n",
    "<br>\n",
    "### Unit Root\n",
    "is a feature of time series that indicate any stochastic trend in the time series that drives it away from mean value. Presence of unit root makes the time series not stationary.\n",
    "<br>\n",
    "There are three main versions of Dickey-Fuller test with slightly different regression models:\n",
    "1. **Dickey-Fuller Test**,assume no itercept or trend in the data.\n",
    "2. **Dickey-Fuller with intercept**, adds an intercept term(constant value) to the model.\n",
    "3. **Augmented Dickey-Fuller (ADF)**, extension of Dickey-Fuller that includes lagged differences of the dependent variable to account for autocorrelation"
   ]
  },
  {
   "cell_type": "markdown",
   "id": "04dc2f50",
   "metadata": {
    "papermill": {
     "duration": 0.003747,
     "end_time": "2024-05-29T09:06:26.328216",
     "exception": false,
     "start_time": "2024-05-29T09:06:26.324469",
     "status": "completed"
    },
    "tags": []
   },
   "source": [
    "<div style=\"font-size: 1.5em;\">\n",
    "Stationarity is a very important step in ARIMA. The first step is to determine the number of differences required to make the series stationary because the model cannot forecast on non-stationary data.\n",
    "</div>\n"
   ]
  },
  {
   "cell_type": "markdown",
   "id": "42e79907",
   "metadata": {
    "papermill": {
     "duration": 0.003662,
     "end_time": "2024-05-29T09:06:26.335828",
     "exception": false,
     "start_time": "2024-05-29T09:06:26.332166",
     "status": "completed"
    },
    "tags": []
   },
   "source": [
    "$$\n",
    "\\LARGE\n",
    "\\Delta y_{t} = \\mu + \\delta y_{t-1} + \\varepsilon_{t}\n",
    "$$\n",
    "\n",
    "\n",
    "<br> <br>\n",
    "where:<br>\n",
    "$\\mu$: Constant<br>\n",
    "$\\delta$: Coefficient +<br>\n",
    "$y_{t-1}$: Value in the time lag of 1 <br>\n",
    "$\\varepsilon$: Error component <br> \n",
    "\n",
    "The formula is like this: <br>\n",
    "\n",
    "$$\n",
    "\\LARGE\n",
    "\\begin{array}{c}\n",
    "t_{\\hat{\\delta}} = \\frac{\\hat{\\delta}}{SE(\\hat{\\delta})}\n",
    "\\end{array}\n",
    "$$\n",
    "<br>\n",
    "\n"
   ]
  },
  {
   "cell_type": "markdown",
   "id": "5166afa8",
   "metadata": {
    "papermill": {
     "duration": 0.003727,
     "end_time": "2024-05-29T09:06:26.343624",
     "exception": false,
     "start_time": "2024-05-29T09:06:26.339897",
     "status": "completed"
    },
    "tags": []
   },
   "source": [
    "## Augmented Dickey Fuller Test\n",
    "Extension of the normal Dickey-Fullter test for more complex model than AR(1). ADF used for larger sized set of time series models which can be more complicated.\n",
    "<br>\n",
    "This test under the following assumption: <br>\n",
    "1. **Null Hypothesis $(H_{0})$:** There exists a unit root in the time series and it is non-stationary. **Unit root = 1** or **$\\delta=0$**.\n",
    "2. **Alternate Hypothesis $(H_{1})$:** There exist no unit root in the time series and it is stationary. **Unit root < 1** or **$\\delta<0$**."
   ]
  },
  {
   "cell_type": "markdown",
   "id": "6987b115",
   "metadata": {
    "papermill": {
     "duration": 0.003781,
     "end_time": "2024-05-29T09:06:26.351407",
     "exception": false,
     "start_time": "2024-05-29T09:06:26.347626",
     "status": "completed"
    },
    "tags": []
   },
   "source": [
    "## Condition to reject H0 and accept H1\n",
    "If the test statistic is less thanthe critical value or if the p-value is less than pre-specified significance level (ex:0.05), then the null hypothesis is rejected and the time series is considered stationary. <br>\n",
    "If the test is greater than the critical value, the null hypothesis can't be rejected thus making the time series non-stationary. <br>\n",
    "Critical value found from the Dicker Fuller table (similar to t-table used for t-test)"
   ]
  },
  {
   "cell_type": "markdown",
   "id": "a447dbcf",
   "metadata": {
    "papermill": {
     "duration": 0.003745,
     "end_time": "2024-05-29T09:06:26.359129",
     "exception": false,
     "start_time": "2024-05-29T09:06:26.355384",
     "status": "completed"
    },
    "tags": []
   },
   "source": [
    "## ADF Test using Python"
   ]
  },
  {
   "cell_type": "code",
   "execution_count": 2,
   "id": "771a0dd0",
   "metadata": {
    "execution": {
     "iopub.execute_input": "2024-05-29T09:06:26.369158Z",
     "iopub.status.busy": "2024-05-29T09:06:26.368603Z",
     "iopub.status.idle": "2024-05-29T09:06:29.419136Z",
     "shell.execute_reply": "2024-05-29T09:06:29.417957Z"
    },
    "papermill": {
     "duration": 3.058758,
     "end_time": "2024-05-29T09:06:29.421924",
     "exception": false,
     "start_time": "2024-05-29T09:06:26.363166",
     "status": "completed"
    },
    "tags": []
   },
   "outputs": [],
   "source": [
    "import statsmodels.api as sm\n",
    "import matplotlib.pyplot as plt\n",
    "%matplotlib inline\n",
    "df = pd.read_csv('/kaggle/input/tesla-stock-data-updated-till-28jun2021/TSLA.csv')"
   ]
  },
  {
   "cell_type": "code",
   "execution_count": 3,
   "id": "907cfc54",
   "metadata": {
    "execution": {
     "iopub.execute_input": "2024-05-29T09:06:29.432437Z",
     "iopub.status.busy": "2024-05-29T09:06:29.432001Z",
     "iopub.status.idle": "2024-05-29T09:06:29.458253Z",
     "shell.execute_reply": "2024-05-29T09:06:29.457051Z"
    },
    "papermill": {
     "duration": 0.034333,
     "end_time": "2024-05-29T09:06:29.460708",
     "exception": false,
     "start_time": "2024-05-29T09:06:29.426375",
     "status": "completed"
    },
    "tags": []
   },
   "outputs": [
    {
     "data": {
      "text/html": [
       "<div>\n",
       "<style scoped>\n",
       "    .dataframe tbody tr th:only-of-type {\n",
       "        vertical-align: middle;\n",
       "    }\n",
       "\n",
       "    .dataframe tbody tr th {\n",
       "        vertical-align: top;\n",
       "    }\n",
       "\n",
       "    .dataframe thead th {\n",
       "        text-align: right;\n",
       "    }\n",
       "</style>\n",
       "<table border=\"1\" class=\"dataframe\">\n",
       "  <thead>\n",
       "    <tr style=\"text-align: right;\">\n",
       "      <th></th>\n",
       "      <th>Date</th>\n",
       "      <th>Open</th>\n",
       "      <th>High</th>\n",
       "      <th>Low</th>\n",
       "      <th>Close</th>\n",
       "      <th>Adj Close</th>\n",
       "      <th>Volume</th>\n",
       "    </tr>\n",
       "  </thead>\n",
       "  <tbody>\n",
       "    <tr>\n",
       "      <th>0</th>\n",
       "      <td>2010-06-29</td>\n",
       "      <td>3.800</td>\n",
       "      <td>5.000</td>\n",
       "      <td>3.508</td>\n",
       "      <td>4.778</td>\n",
       "      <td>4.778</td>\n",
       "      <td>93831500</td>\n",
       "    </tr>\n",
       "    <tr>\n",
       "      <th>1</th>\n",
       "      <td>2010-06-30</td>\n",
       "      <td>5.158</td>\n",
       "      <td>6.084</td>\n",
       "      <td>4.660</td>\n",
       "      <td>4.766</td>\n",
       "      <td>4.766</td>\n",
       "      <td>85935500</td>\n",
       "    </tr>\n",
       "    <tr>\n",
       "      <th>2</th>\n",
       "      <td>2010-07-01</td>\n",
       "      <td>5.000</td>\n",
       "      <td>5.184</td>\n",
       "      <td>4.054</td>\n",
       "      <td>4.392</td>\n",
       "      <td>4.392</td>\n",
       "      <td>41094000</td>\n",
       "    </tr>\n",
       "    <tr>\n",
       "      <th>3</th>\n",
       "      <td>2010-07-02</td>\n",
       "      <td>4.600</td>\n",
       "      <td>4.620</td>\n",
       "      <td>3.742</td>\n",
       "      <td>3.840</td>\n",
       "      <td>3.840</td>\n",
       "      <td>25699000</td>\n",
       "    </tr>\n",
       "    <tr>\n",
       "      <th>4</th>\n",
       "      <td>2010-07-06</td>\n",
       "      <td>4.000</td>\n",
       "      <td>4.000</td>\n",
       "      <td>3.166</td>\n",
       "      <td>3.222</td>\n",
       "      <td>3.222</td>\n",
       "      <td>34334500</td>\n",
       "    </tr>\n",
       "  </tbody>\n",
       "</table>\n",
       "</div>"
      ],
      "text/plain": [
       "         Date   Open   High    Low  Close  Adj Close    Volume\n",
       "0  2010-06-29  3.800  5.000  3.508  4.778      4.778  93831500\n",
       "1  2010-06-30  5.158  6.084  4.660  4.766      4.766  85935500\n",
       "2  2010-07-01  5.000  5.184  4.054  4.392      4.392  41094000\n",
       "3  2010-07-02  4.600  4.620  3.742  3.840      3.840  25699000\n",
       "4  2010-07-06  4.000  4.000  3.166  3.222      3.222  34334500"
      ]
     },
     "execution_count": 3,
     "metadata": {},
     "output_type": "execute_result"
    }
   ],
   "source": [
    "df.head()"
   ]
  },
  {
   "cell_type": "code",
   "execution_count": 4,
   "id": "c170030f",
   "metadata": {
    "execution": {
     "iopub.execute_input": "2024-05-29T09:06:29.471985Z",
     "iopub.status.busy": "2024-05-29T09:06:29.470858Z",
     "iopub.status.idle": "2024-05-29T09:06:29.477918Z",
     "shell.execute_reply": "2024-05-29T09:06:29.476708Z"
    },
    "papermill": {
     "duration": 0.015075,
     "end_time": "2024-05-29T09:06:29.480216",
     "exception": false,
     "start_time": "2024-05-29T09:06:29.465141",
     "status": "completed"
    },
    "tags": []
   },
   "outputs": [
    {
     "data": {
      "text/plain": [
       "(2956, 7)"
      ]
     },
     "execution_count": 4,
     "metadata": {},
     "output_type": "execute_result"
    }
   ],
   "source": [
    "df.shape"
   ]
  },
  {
   "cell_type": "code",
   "execution_count": null,
   "id": "46e6f312",
   "metadata": {
    "papermill": {
     "duration": 0.004414,
     "end_time": "2024-05-29T09:06:29.489331",
     "exception": false,
     "start_time": "2024-05-29T09:06:29.484917",
     "status": "completed"
    },
    "tags": []
   },
   "outputs": [],
   "source": []
  }
 ],
 "metadata": {
  "kaggle": {
   "accelerator": "none",
   "dataSources": [
    {
     "datasetId": 1436765,
     "sourceId": 3358622,
     "sourceType": "datasetVersion"
    }
   ],
   "dockerImageVersionId": 30698,
   "isGpuEnabled": false,
   "isInternetEnabled": true,
   "language": "python",
   "sourceType": "notebook"
  },
  "kernelspec": {
   "display_name": "Python 3",
   "language": "python",
   "name": "python3"
  },
  "language_info": {
   "codemirror_mode": {
    "name": "ipython",
    "version": 3
   },
   "file_extension": ".py",
   "mimetype": "text/x-python",
   "name": "python",
   "nbconvert_exporter": "python",
   "pygments_lexer": "ipython3",
   "version": "3.10.13"
  },
  "papermill": {
   "default_parameters": {},
   "duration": 7.765878,
   "end_time": "2024-05-29T09:06:30.114683",
   "environment_variables": {},
   "exception": null,
   "input_path": "__notebook__.ipynb",
   "output_path": "__notebook__.ipynb",
   "parameters": {},
   "start_time": "2024-05-29T09:06:22.348805",
   "version": "2.5.0"
  }
 },
 "nbformat": 4,
 "nbformat_minor": 5
}
