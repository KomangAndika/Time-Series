{
 "cells": [
  {
   "cell_type": "code",
   "execution_count": 1,
   "id": "80792cad",
   "metadata": {
    "execution": {
     "iopub.execute_input": "2024-05-29T08:38:40.400552Z",
     "iopub.status.busy": "2024-05-29T08:38:40.399809Z",
     "iopub.status.idle": "2024-05-29T08:38:41.343351Z",
     "shell.execute_reply": "2024-05-29T08:38:41.342100Z"
    },
    "papermill": {
     "duration": 0.951801,
     "end_time": "2024-05-29T08:38:41.346012",
     "exception": false,
     "start_time": "2024-05-29T08:38:40.394211",
     "status": "completed"
    },
    "tags": []
   },
   "outputs": [
    {
     "name": "stdout",
     "output_type": "stream",
     "text": [
      "/kaggle/input/tesla-stock-data-updated-till-28jun2021/TSLA.csv\n"
     ]
    }
   ],
   "source": [
    "import numpy as np \n",
    "import pandas as pd\n",
    "import os\n",
    "for dirname, _, filenames in os.walk('/kaggle/input'):\n",
    "    for filename in filenames:\n",
    "        print(os.path.join(dirname, filename))"
   ]
  },
  {
   "cell_type": "markdown",
   "id": "831c29f5",
   "metadata": {
    "papermill": {
     "duration": 0.002404,
     "end_time": "2024-05-29T08:38:41.351614",
     "exception": false,
     "start_time": "2024-05-29T08:38:41.349210",
     "status": "completed"
    },
    "tags": []
   },
   "source": [
    "## Dickey Fuller Test\n",
    "Dicker fuller test use autoregressive model and optimize an information criterion across multiple different lag values. <br>\n",
    "This test is a statistical test to check for stationarity in time series. This is a type of unit root test, through which we find if the time series is having any unit root.\n",
    "<br>\n",
    "### Unit Root\n",
    "is a feature of time series that indicate any stochastic trend in the time series that drives it away from mean value. Presence of unit root makes the time series not stationary.\n",
    "<br>\n",
    "There are three main versions of Dickey-Fuller test with slightly different regression models:\n",
    "1. **Dickey-Fuller Test**,assume no itercept or trend in the data.\n",
    "2. **Dickey-Fuller with intercept**, adds an intercept term(constant value) to the model.\n",
    "3. **Augmented Dickey-Fuller (ADF)**, extension of Dickey-Fuller that includes lagged differences of the dependent variable to account for autocorrelation"
   ]
  },
  {
   "cell_type": "markdown",
   "id": "20db8231",
   "metadata": {
    "papermill": {
     "duration": 0.002246,
     "end_time": "2024-05-29T08:38:41.356401",
     "exception": false,
     "start_time": "2024-05-29T08:38:41.354155",
     "status": "completed"
    },
    "tags": []
   },
   "source": [
    "$$\n",
    "\\LARGE\n",
    "\\Delta y_{t} = \\mu + \\delta y_{t-1} + \\varepsilon_{t}\n",
    "$$\n",
    "\n",
    "\n",
    "<br> <br>\n",
    "where:<br>\n",
    "$\\mu$: Constant<br>\n",
    "$\\delta$: Coefficient +<br>\n",
    "$y_{t-1}$: Value in the time lag of 1 <br>\n",
    "$\\varepsilon$: Error component <br> \n",
    "\n",
    "The formula is like this: <br>\n",
    "\n",
    "$$\n",
    "\\LARGE\n",
    "\\begin{array}{c}\n",
    "t_{\\hat{\\delta}} = \\frac{\\hat{\\delta}}{SE(\\hat{\\delta})}\n",
    "\\end{array}\n",
    "$$\n",
    "<br>\n",
    "\n"
   ]
  },
  {
   "cell_type": "markdown",
   "id": "a42ed38e",
   "metadata": {
    "papermill": {
     "duration": 0.002248,
     "end_time": "2024-05-29T08:38:41.361083",
     "exception": false,
     "start_time": "2024-05-29T08:38:41.358835",
     "status": "completed"
    },
    "tags": []
   },
   "source": [
    "## Augmented Dickey Fuller Test\n",
    "Extension of the normal Dickey-Fullter test for more complex model than AR(1). ADF used for larger sized set of time series models which can be more complicated."
   ]
  },
  {
   "cell_type": "code",
   "execution_count": null,
   "id": "4de34a1f",
   "metadata": {
    "papermill": {
     "duration": 0.002305,
     "end_time": "2024-05-29T08:38:41.365842",
     "exception": false,
     "start_time": "2024-05-29T08:38:41.363537",
     "status": "completed"
    },
    "tags": []
   },
   "outputs": [],
   "source": []
  }
 ],
 "metadata": {
  "kaggle": {
   "accelerator": "none",
   "dataSources": [
    {
     "datasetId": 1436765,
     "sourceId": 3358622,
     "sourceType": "datasetVersion"
    }
   ],
   "dockerImageVersionId": 30698,
   "isGpuEnabled": false,
   "isInternetEnabled": true,
   "language": "python",
   "sourceType": "notebook"
  },
  "kernelspec": {
   "display_name": "Python 3",
   "language": "python",
   "name": "python3"
  },
  "language_info": {
   "codemirror_mode": {
    "name": "ipython",
    "version": 3
   },
   "file_extension": ".py",
   "mimetype": "text/x-python",
   "name": "python",
   "nbconvert_exporter": "python",
   "pygments_lexer": "ipython3",
   "version": "3.10.13"
  },
  "papermill": {
   "default_parameters": {},
   "duration": 4.537657,
   "end_time": "2024-05-29T08:38:41.890555",
   "environment_variables": {},
   "exception": null,
   "input_path": "__notebook__.ipynb",
   "output_path": "__notebook__.ipynb",
   "parameters": {},
   "start_time": "2024-05-29T08:38:37.352898",
   "version": "2.5.0"
  }
 },
 "nbformat": 4,
 "nbformat_minor": 5
}
