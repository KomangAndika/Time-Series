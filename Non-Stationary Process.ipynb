{
 "cells": [
  {
   "cell_type": "code",
   "execution_count": 1,
   "id": "18ca63b5",
   "metadata": {
    "_cell_guid": "b1076dfc-b9ad-4769-8c92-a6c4dae69d19",
    "_uuid": "8f2839f25d086af736a60e9eeb907d3b93b6e0e5",
    "execution": {
     "iopub.execute_input": "2024-06-03T03:46:08.782982Z",
     "iopub.status.busy": "2024-06-03T03:46:08.782616Z",
     "iopub.status.idle": "2024-06-03T03:46:09.628577Z",
     "shell.execute_reply": "2024-06-03T03:46:09.627707Z"
    },
    "papermill": {
     "duration": 0.852456,
     "end_time": "2024-06-03T03:46:09.631131",
     "exception": false,
     "start_time": "2024-06-03T03:46:08.778675",
     "status": "completed"
    },
    "tags": []
   },
   "outputs": [],
   "source": [
    "import numpy as np \n",
    "import pandas as pd \n",
    "\n",
    "import os\n",
    "for dirname, _, filenames in os.walk('/kaggle/input'):\n",
    "    for filename in filenames:\n",
    "        print(os.path.join(dirname, filename))\n"
   ]
  },
  {
   "cell_type": "markdown",
   "id": "4532103e",
   "metadata": {
    "papermill": {
     "duration": 0.001963,
     "end_time": "2024-06-03T03:46:09.635574",
     "exception": false,
     "start_time": "2024-06-03T03:46:09.633611",
     "status": "completed"
    },
    "tags": []
   },
   "source": [
    "## Prequisite\n",
    "Non stationarity means with statistical properties, like mean, variance, and autocorrelation change over time.\n",
    "<br>Types of Non-Stationarity\n",
    "1. **Deterministic Trends**: Trend that can me modeled with deterministic function, ex: linear or polynomial trend.\n",
    "2. **Stochastic Trends**: Trend that follow a random walk or a unit root process, where the series has a presistent, random component that causes the series to drift over time,\n",
    "3. **Seasonal Non-Stationarity**: Regular patterns or cycles that repeat over a fixed period, such as monthly sales data showing seasonal effects.\n",
    "\n",
    "## Identifying Non-Stationarity\n",
    "1. Visual.\n",
    "2. ADF(Statistical): Test the presence of unit root.\n",
    "3. Kwiatkowski-Phillips-Schmidt-Shin (KPSS)(Statistical): test against the alternative of a unit root.\n",
    "4. Phillips-Perron (PP) test: testing uni roots."
   ]
  },
  {
   "cell_type": "markdown",
   "id": "4f22afad",
   "metadata": {
    "papermill": {
     "duration": 0.001685,
     "end_time": "2024-06-03T03:46:09.639245",
     "exception": false,
     "start_time": "2024-06-03T03:46:09.637560",
     "status": "completed"
    },
    "tags": []
   },
   "source": [
    "## Stationarization\n",
    "This is more like a follow up from my Dickey-Fuller Test what is used to check if a time series data is stationary. <br>\n",
    "After we check the time series data, if its found to be non-stationary then we can turn it into stationary using these process. <br>"
   ]
  },
  {
   "cell_type": "markdown",
   "id": "5f82cfd6",
   "metadata": {
    "papermill": {
     "duration": 0.001703,
     "end_time": "2024-06-03T03:46:09.642863",
     "exception": false,
     "start_time": "2024-06-03T03:46:09.641160",
     "status": "completed"
    },
    "tags": []
   },
   "source": [
    "- Financial institution and corporations, as well as individual investor and researcher usually use time series data like exchange rates, GDP, inflation, and other macroeconomic indicator in economic forecast, stock market analysis."
   ]
  },
  {
   "cell_type": "markdown",
   "id": "cb940b3d",
   "metadata": {
    "papermill": {
     "duration": 0.001663,
     "end_time": "2024-06-03T03:46:09.646429",
     "exception": false,
     "start_time": "2024-06-03T03:46:09.644766",
     "status": "completed"
    },
    "tags": []
   },
   "source": [
    "## 1. Differencing\n",
    "- Subtracting the previous observation from the current observation. This is known as first differenceing. Higher order differencing can be used if necessary."
   ]
  },
  {
   "cell_type": "code",
   "execution_count": null,
   "id": "06f0e2c7",
   "metadata": {
    "papermill": {
     "duration": 0.001693,
     "end_time": "2024-06-03T03:46:09.649996",
     "exception": false,
     "start_time": "2024-06-03T03:46:09.648303",
     "status": "completed"
    },
    "tags": []
   },
   "outputs": [],
   "source": []
  }
 ],
 "metadata": {
  "kaggle": {
   "accelerator": "none",
   "dataSources": [],
   "dockerImageVersionId": 30698,
   "isGpuEnabled": false,
   "isInternetEnabled": true,
   "language": "python",
   "sourceType": "notebook"
  },
  "kernelspec": {
   "display_name": "Python 3",
   "language": "python",
   "name": "python3"
  },
  "language_info": {
   "codemirror_mode": {
    "name": "ipython",
    "version": 3
   },
   "file_extension": ".py",
   "mimetype": "text/x-python",
   "name": "python",
   "nbconvert_exporter": "python",
   "pygments_lexer": "ipython3",
   "version": "3.10.13"
  },
  "papermill": {
   "default_parameters": {},
   "duration": 4.000258,
   "end_time": "2024-06-03T03:46:10.072098",
   "environment_variables": {},
   "exception": null,
   "input_path": "__notebook__.ipynb",
   "output_path": "__notebook__.ipynb",
   "parameters": {},
   "start_time": "2024-06-03T03:46:06.071840",
   "version": "2.5.0"
  }
 },
 "nbformat": 4,
 "nbformat_minor": 5
}
